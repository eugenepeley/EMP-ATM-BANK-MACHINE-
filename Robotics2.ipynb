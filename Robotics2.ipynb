{
  "nbformat": 4,
  "nbformat_minor": 0,
  "metadata": {
    "colab": {
      "provenance": [],
      "authorship_tag": "ABX9TyPcoz4l+wIqvfV9O+FLNEI1",
      "include_colab_link": true
    },
    "kernelspec": {
      "name": "python3",
      "display_name": "Python 3"
    },
    "language_info": {
      "name": "python"
    }
  },
  "cells": [
    {
      "cell_type": "markdown",
      "metadata": {
        "id": "view-in-github",
        "colab_type": "text"
      },
      "source": [
        "<a href=\"https://colab.research.google.com/github/eugenepeley/EMP-ATM-BANK-MACHINE-/blob/master/Robotics2.ipynb\" target=\"_parent\"><img src=\"https://colab.research.google.com/assets/colab-badge.svg\" alt=\"Open In Colab\"/></a>"
      ]
    },
    {
      "cell_type": "code",
      "execution_count": null,
      "metadata": {
        "id": "xoJh8EJE6qjV"
      },
      "outputs": [],
      "source": [
        "import numpy as np\n",
        "import matplotlib.pyplot as plt\n",
        "\n",
        "def compute_attractive_field(X, Y, goal):\n",
        "    Fx_att = goal[0] - X\n",
        "    Fy_att = goal[1] - Y\n",
        "    return Fx_att, Fy_att\n",
        "\n",
        "def compute_repulsive_field(X, Y, obstacle_pos, kr=10, repulsion_range=2.0, shape='circle'):\n",
        "    dx = X - obstacle_pos[0]\n",
        "    dy = Y - obstacle_pos[1]\n",
        "\n",
        "    if shape == 'ellipse':\n",
        "        # Non-circular obstacle (simple ellipse): scale axes\n",
        "        dx = dx / 1.5  # stretch x-axis\n",
        "        dy = dy / 0.75  # shrink y-axis\n",
        "\n",
        "    distance = np.sqrt(dx**2 + dy**2)\n",
        "    with np.errstate(divide='ignore', invalid='ignore'):\n",
        "        strength = kr * (1.0 / distance - 1.0 / repulsion_range)\n",
        "        strength[distance > repulsion_range] = 0\n",
        "        strength = np.clip(strength, 0, None)\n",
        "        Fx_rep = strength * dx / (distance**2)\n",
        "        Fy_rep = strength * dy / (distance**2)\n",
        "        Fx_rep[np.isnan(Fx_rep)] = 0\n",
        "        Fy_rep[np.isnan(Fy_rep)] = 0\n",
        "    return Fx_rep, Fy_rep\n",
        "\n",
        "# Grid setup\n",
        "x = np.linspace(0, 10, 50)\n",
        "y = np.linspace(0, 10, 50)\n",
        "X, Y = np.meshgrid(x, y)\n",
        "goal = np.array([8, 8])\n",
        "start = np.array([2, 2])\n",
        "t = 1.0  # Time snapshot\n",
        "\n",
        "# Moving obstacle (moves sinusoidally along x)\n",
        "moving_obstacle = np.array([5 + np.sin(t), 5])\n",
        "non_circular_obstacle = np.array([3, 7])\n",
        "\n",
        "# Compute fields\n",
        "Fx_att, Fy_att = compute_attractive_field(X, Y, goal)\n",
        "Fx_rep1, Fy_rep1 = compute_repulsive_field(X, Y, moving_obstacle, kr=8)\n",
        "Fx_rep2, Fy_rep2 = compute_repulsive_field(X, Y, non_circular_obstacle, kr=15, shape='ellipse')\n",
        "\n",
        "# Combine all fields\n",
        "Fx_total = Fx_att + Fx_rep1 + Fx_rep2\n",
        "Fy_total = Fy_att + Fy_rep1 + Fy_rep2\n",
        "\n",
        "# Plot vector field\n",
        "plt.figure(figsize=(10, 10))\n",
        "plt.streamplot(X, Y, Fx_total, Fy_total, color='blue', density=1.2)\n",
        "plt.plot(*goal, 'go', label='Goal')\n",
        "plt.plot(*start, 'ko', label='Start')\n",
        "\n",
        "# Obstacles\n",
        "circle1 = plt.Circle(moving_obstacle, 1, color='orange', alpha=0.6, label='Moving Obstacle')\n",
        "ellipse = plt.matplotlib.patches.Ellipse(non_circular_obstacle, 3, 1.5, color='red', alpha=0.6, label='Elliptical Obstacle')\n",
        "plt.gca().add_patch(circle1)\n",
        "plt.gca().add_patch(ellipse)\n",
        "\n",
        "plt.title(\"Advanced Potential Field with Moving & Non-Circular Obstacles\")\n",
        "plt.xlim(0, 10)\n",
        "plt.ylim(0, 10)\n",
        "plt.grid(True)\n",
        "plt.axis('equal')\n",
        "plt.legend()\n",
        "plt.show()\n",
        "\n",
        "# --- Placeholder for Local Minima Escape ---\n",
        "# Strategies like random walk, simulated annealing, or wavefront expansion\n",
        "# can be implemented here in the path planning logic\n",
        "\n",
        "print(\"Next step: Implement local minima escape (wavefront/random walk) for smarter path planning.\")"
      ]
    }
  ]
}